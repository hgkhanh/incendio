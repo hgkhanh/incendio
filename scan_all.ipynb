{
 "cells": [
  {
   "cell_type": "code",
   "execution_count": 1,
   "id": "869d3c60",
   "metadata": {},
   "outputs": [],
   "source": [
    "# import sys\n",
    "# !{sys.executable} -m pip install python_dotenv\n",
    "# !{sys.executable} -m pip install python_binance\n",
    "import os\n",
    "from binance.client import Client\n",
    "from binance.spot import Spot\n",
    "\n",
    "import pandas as pd\n",
    "from dotenv import load_dotenv\n",
    "pd.set_option(\"display.precision\", 8)\n"
   ]
  },
  {
   "cell_type": "code",
   "execution_count": 2,
   "id": "4edb29db-9f61-48b5-91d4-9061e2982c03",
   "metadata": {},
   "outputs": [],
   "source": [
    "# read from local .env file\n",
    "load_dotenv() \n",
    "\n",
    "api_key = os.environ['BINANCE_API_KEY']\n",
    "api_secret = os.environ['BINANCE_API_SECRET']\n",
    "\n",
    "client = Client()\n",
    "spotClient = Spot()\n",
    "# myClient = Client(api_key, api_secret, testnet=True)"
   ]
  },
  {
   "cell_type": "code",
   "execution_count": 3,
   "id": "1d3c162e",
   "metadata": {},
   "outputs": [],
   "source": [
    "# INPUT\n",
    "## SET this to get d2, d3, d4\n",
    "day_aggregation = 10\n",
    "\n",
    "## ema (20 or 25)\n",
    "ema_size = 25\n",
    "\n",
    "## A symbol with streak >= this will be printed out\n",
    "streak_threshold = 20\n",
    "\n",
    "## how many day to query\n",
    "quantity = 6000\n",
    "\n",
    "quote_asset = \"BTC\"\n"
   ]
  },
  {
   "cell_type": "code",
   "execution_count": 4,
   "id": "0f819f1c",
   "metadata": {},
   "outputs": [],
   "source": [
    "# TIMEFRAME\n",
    "## set timeframe to query binance, based on day_aggregation\n",
    "do_manual_aggregation = True\n",
    "timeframe = '1d'\n",
    "if day_aggregation == 3:\n",
    "    timeframe = '3d'\n",
    "    do_manual_aggregation = False\n",
    "elif day_aggregation == 7:\n",
    "    timeframe = '1w'\n",
    "    do_manual_aggregation = False\n",
    "elif day_aggregation == 30:\n",
    "    timeframe = '1M'\n",
    "    do_manual_aggregation = False"
   ]
  },
  {
   "cell_type": "code",
   "execution_count": 5,
   "id": "4526f750-1af5-4dfa-84a4-2afd58506f12",
   "metadata": {},
   "outputs": [],
   "source": [
    "# FUNCTIONS\n",
    "## Function to query Binance for candlestick data\n",
    "def get_candlestick_data(symbol, timeframe, qty):\n",
    "    # Retrieve the raw data\n",
    "    raw_data = spotClient.klines(symbol=symbol, interval=timeframe, limit=qty)\n",
    "    # Set up the return array\n",
    "    converted_data = []\n",
    "    # Convert each element into a Python dictionary object, then add to converted_data\n",
    "    for candle in raw_data:\n",
    "        # Dictionary object\n",
    "        converted_candle = {\n",
    "            'time': candle[0],\n",
    "            'open': float(candle[1]),\n",
    "            'high': float(candle[2]),\n",
    "            'low': float(candle[3]),\n",
    "            'close': float(candle[4]),\n",
    "            'volume': float(candle[5]),\n",
    "            'close_time': candle[6],\n",
    "            'quote_asset_volume': float(candle[7]),\n",
    "            'number_of_trades': int(candle[8]),\n",
    "            'taker_buy_base_asset_volume': float(candle[9]),\n",
    "            'taker_buy_quote_asset_volume': float(candle[10])\n",
    "        }\n",
    "        # Add to converted_data\n",
    "        converted_data.append(converted_candle)\n",
    "    # Return converted data\n",
    "    return converted_data\n",
    "\n",
    "## Define function to calculate an arbitrary EMA      \n",
    "def calc_generic_ema(dataframe, symbol, timeframe, ema_size):\n",
    "    # Create column string\n",
    "    ema_name = \"ema_\" + str(ema_size)\n",
    "    # Create the multiplier\n",
    "    multiplier = 2/(ema_size + 1)\n",
    "    # Calculate the initial value (SMA)\n",
    "    # pd.set_option('display.max_columns', None) # <- use this to show all columns\n",
    "    # pd.set_option('display.max_rows', None) # <- use this to show all the rows\n",
    "    initial_mean = dataframe['close'].head(ema_size).mean()\n",
    "\n",
    "    # Iterate through Dataframe\n",
    "    for i in range(len(dataframe)):\n",
    "        if i == ema_size:\n",
    "            dataframe.loc[i, ema_name] = initial_mean\n",
    "        elif i > ema_size:\n",
    "            ema_value = dataframe.loc[i, 'close'] * multiplier + dataframe.loc[i-1, ema_name]*(1-multiplier)\n",
    "            dataframe.loc[i, ema_name] = ema_value\n",
    "        else:\n",
    "            dataframe.loc[i, ema_name] = 0.00\n",
    "    # print(dataframe) # <- use this to print the dataframe if you want to inspect\n",
    "    return dataframe"
   ]
  },
  {
   "cell_type": "code",
   "execution_count": 6,
   "id": "272dda04",
   "metadata": {},
   "outputs": [
    {
     "name": "stdout",
     "output_type": "stream",
     "text": [
      "283\n",
      "Scanning 2 trading pairs...\n"
     ]
    }
   ],
   "source": [
    "# GET SYMBOL LIST\n",
    "info = client.get_exchange_info()\n",
    "coinlist = []\n",
    "for c in info['symbols']:\n",
    "    if c['quoteAsset']==quote_asset and c['status']==\"TRADING\":\n",
    "        coinlist.append(c['symbol'])\n",
    "        \n",
    "print(len(coinlist))\n",
    "# sublist = coinlist[0:2]\n",
    "sublist = coinlist\n",
    "print('Scanning ' + str(len(sublist)) + ' trading pairs...')"
   ]
  },
  {
   "cell_type": "code",
   "execution_count": 7,
   "id": "3908f34b",
   "metadata": {},
   "outputs": [
    {
     "data": {
      "application/vnd.jupyter.widget-view+json": {
       "model_id": "a8c45a88ef5849e792d9b76aa2ce3fb6",
       "version_major": 2,
       "version_minor": 0
      },
      "text/plain": [
       "IntProgress(value=0, max=2)"
      ]
     },
     "metadata": {},
     "output_type": "display_data"
    },
    {
     "name": "stdout",
     "output_type": "stream",
     "text": [
      "Scan Completed!\n"
     ]
    }
   ],
   "source": [
    "# PROGRESS BAR\n",
    "from ipywidgets import IntProgress\n",
    "from IPython.display import display\n",
    "import time\n",
    "\n",
    "max_count = len(sublist)\n",
    "\n",
    "f = IntProgress(min=0, max=max_count) # instantiate the bar\n",
    "display(f) # display the bar\n",
    "\n",
    "count = 0\n",
    "\n",
    "# MAIN\n",
    "for idx, symbol in enumerate(sublist):\n",
    "    # update progress bar\n",
    "    f.value += 1\n",
    "    \n",
    "    raw_data = get_candlestick_data(symbol=symbol, timeframe=timeframe, qty=1000)\n",
    "    ## Convert into Dataframe\n",
    "    df = pd.DataFrame(raw_data)\n",
    "\n",
    "    if do_manual_aggregation:\n",
    "        df['d_index'] = df.index//day_aggregation\n",
    "        # get high / low\n",
    "        df['d_high'] = df.groupby('d_index')['high'].transform(max)\n",
    "        df['d_low'] = df.groupby(['d_index'])['low'].transform(min)\n",
    "\n",
    "        # get open / close\n",
    "\n",
    "        df['d_open'] = df.groupby(['d_index'])['open'].transform('first')\n",
    "        df['d_close'] = df.groupby(['d_index'])['close'].transform('last')\n",
    "\n",
    "        df = df.groupby('d_index').first()\n",
    "\n",
    "        # clean up d1 column\n",
    "        del df['open']\n",
    "        del df['high']\n",
    "        del df['low']\n",
    "        del df['close']\n",
    "\n",
    "        # rename d_column\n",
    "        df = df.rename(columns={\"d_high\": \"high\", \"d_low\": \"low\", \"d_close\": \"close\", \"d_open\": \"open\" })\n",
    "\n",
    "    df['time'] = pd.to_datetime(df['time'], unit='ms')\n",
    "    # ema\n",
    "    df = calc_generic_ema(df, symbol, timeframe, ema_size)\n",
    "\n",
    "    # clean up\n",
    "\n",
    "    del df['volume']\n",
    "    del df['close_time']\n",
    "    del df['quote_asset_volume']\n",
    "    del df['number_of_trades']\n",
    "    del df['taker_buy_base_asset_volume']\n",
    "    del df['taker_buy_quote_asset_volume']\n",
    "\n",
    "    # Calculate oversell\n",
    "    df['oversell_day'] = 0\n",
    "    df.loc[df['high'] < df['ema_25'], 'oversell_day'] = 1\n",
    "    df.loc[df['ema_25'] == 0, 'oversell_day'] = 0\n",
    "\n",
    "\n",
    "    df['streak'] = df.groupby((df[\"oversell_day\"] != df[\"oversell_day\"].shift()).cumsum()).cumcount()+1\n",
    "    df.loc[df['oversell_day'] == 0, 'streak'] = 0\n",
    "    \n",
    "    if (df['streak'].iloc[-1] > streak_threshold):\n",
    "        print('Symbol: '+ symbol + ' is having an oversell streak')\n",
    "        display(df['streak'].iloc[-1])\n",
    "#     display(df.tail(30))\n",
    "        \n",
    "    if f.value == max_count:\n",
    "        print('Scan Completed!')"
   ]
  }
 ],
 "metadata": {
  "kernelspec": {
   "display_name": "Python 3 (ipykernel)",
   "language": "python",
   "name": "python3"
  },
  "language_info": {
   "codemirror_mode": {
    "name": "ipython",
    "version": 3
   },
   "file_extension": ".py",
   "mimetype": "text/x-python",
   "name": "python",
   "nbconvert_exporter": "python",
   "pygments_lexer": "ipython3",
   "version": "3.9.13"
  }
 },
 "nbformat": 4,
 "nbformat_minor": 5
}
