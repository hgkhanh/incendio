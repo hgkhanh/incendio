{
 "cells": [
  {
   "cell_type": "code",
   "execution_count": 82,
   "id": "869d3c60",
   "metadata": {},
   "outputs": [],
   "source": [
    "# import sys\n",
    "# !{sys.executable} -m pip install python_dotenv\n",
    "# !{sys.executable} -m pip install python_binance\n",
    "import os\n",
    "from binance.client import Client\n",
    "from binance.spot import Spot\n",
    "\n",
    "import pandas as pd\n",
    "from dotenv import load_dotenv\n"
   ]
  },
  {
   "cell_type": "code",
   "execution_count": 83,
   "id": "4edb29db-9f61-48b5-91d4-9061e2982c03",
   "metadata": {},
   "outputs": [],
   "source": [
    "# read from local .env file\n",
    "load_dotenv() \n",
    "\n",
    "api_key = os.environ['BINANCE_API_KEY']\n",
    "api_secret = os.environ['BINANCE_API_SECRET']\n",
    "\n",
    "client = Client()\n",
    "spotClient = Spot()\n",
    "# myClient = Client(api_key, api_secret, testnet=True)"
   ]
  },
  {
   "cell_type": "code",
   "execution_count": 84,
   "id": "1d3c162e",
   "metadata": {},
   "outputs": [],
   "source": [
    "# INPUT\n",
    "## d2, d3, d4\n",
    "timeframe = \"3d\"\n",
    "## ema (20 or 25)\n",
    "ema_size = 25\n",
    "## A symbol with streak >= this will be printed out\n",
    "streak_threshold = 44\n"
   ]
  },
  {
   "cell_type": "code",
   "execution_count": 85,
   "id": "4526f750-1af5-4dfa-84a4-2afd58506f12",
   "metadata": {},
   "outputs": [],
   "source": [
    "# Function to query Binance for candlestick data\n",
    "def get_candlestick_data(symbol, timeframe, qty):\n",
    "    # Retrieve the raw data\n",
    "    raw_data = spotClient.klines(symbol=symbol, interval=timeframe, limit=qty)\n",
    "    # Set up the return array\n",
    "    converted_data = []\n",
    "    # Convert each element into a Python dictionary object, then add to converted_data\n",
    "    for candle in raw_data:\n",
    "        # Dictionary object\n",
    "        converted_candle = {\n",
    "            'time': candle[0],\n",
    "            'open': float(candle[1]),\n",
    "            'high': float(candle[2]),\n",
    "            'low': float(candle[3]),\n",
    "            'close': float(candle[4]),\n",
    "            'volume': float(candle[5]),\n",
    "            'close_time': candle[6],\n",
    "            'quote_asset_volume': float(candle[7]),\n",
    "            'number_of_trades': int(candle[8]),\n",
    "            'taker_buy_base_asset_volume': float(candle[9]),\n",
    "            'taker_buy_quote_asset_volume': float(candle[10])\n",
    "        }\n",
    "        # Add to converted_data\n",
    "        converted_data.append(converted_candle)\n",
    "    # Return converted data\n",
    "    return converted_data"
   ]
  },
  {
   "cell_type": "code",
   "execution_count": 86,
   "id": "f977614d-3649-43cf-922a-2460cf43eea1",
   "metadata": {},
   "outputs": [],
   "source": [
    "# Define function to calculate an arbitrary EMA    \n",
    "def calc_generic_ema(symbol, timeframe, ema_size):\n",
    "    raw_data = get_candlestick_data(symbol=symbol, timeframe=timeframe, qty=1000)\n",
    "    # Convert into Dataframe\n",
    "    dataframe = pd.DataFrame(raw_data)\n",
    "    # Create column string\n",
    "    ema_name = \"ema_\" + str(ema_size)\n",
    "    # Create the multiplier\n",
    "    multiplier = 2/(ema_size + 1)\n",
    "    # Calculate the initial value (SMA)\n",
    "    # pd.set_option('display.max_columns', None) # <- use this to show all columns\n",
    "    # pd.set_option('display.max_rows', None) # <- use this to show all the rows\n",
    "    initial_mean = dataframe['close'].head(ema_size).mean()\n",
    "\n",
    "    # Iterate through Dataframe\n",
    "    for i in range(len(dataframe)):\n",
    "        if i == ema_size:\n",
    "            dataframe.loc[i, ema_name] = initial_mean\n",
    "        elif i > ema_size:\n",
    "            ema_value = dataframe.loc[i, 'close'] * multiplier + dataframe.loc[i-1, ema_name]*(1-multiplier)\n",
    "            dataframe.loc[i, ema_name] = ema_value\n",
    "        else:\n",
    "            dataframe.loc[i, ema_name] = 0.00\n",
    "    # print(dataframe) # <- use this to print the dataframe if you want to inspect\n",
    "    return dataframe"
   ]
  },
  {
   "cell_type": "code",
   "execution_count": 87,
   "id": "76100d44",
   "metadata": {},
   "outputs": [
    {
     "name": "stdout",
     "output_type": "stream",
     "text": [
      "343\n"
     ]
    }
   ],
   "source": [
    "# GET SYMBOL LIST\n",
    "info = client.get_exchange_info()\n",
    "usdtList = []\n",
    "for c in info['symbols']:\n",
    "    if c['quoteAsset']=='USDT' and c['status']==\"TRADING\":\n",
    "        usdtList.append(c['symbol'])\n",
    "        \n",
    "print(len(usdtList))\n",
    "# print(usdtList)\n",
    "# print(usdtList[1:])"
   ]
  },
  {
   "cell_type": "code",
   "execution_count": 90,
   "id": "3908f34b",
   "metadata": {},
   "outputs": [
    {
     "name": "stdout",
     "output_type": "stream",
     "text": [
      "Symbol: TUSDUSDT is having an oversell streak\n"
     ]
    },
    {
     "data": {
      "text/plain": [
       "411"
      ]
     },
     "metadata": {},
     "output_type": "display_data"
    },
    {
     "name": "stdout",
     "output_type": "stream",
     "text": [
      "Symbol: VETUSDT is having an oversell streak\n"
     ]
    },
    {
     "data": {
      "text/plain": [
       "51"
      ]
     },
     "metadata": {},
     "output_type": "display_data"
    },
    {
     "name": "stdout",
     "output_type": "stream",
     "text": [
      "Symbol: USDCUSDT is having an oversell streak\n"
     ]
    },
    {
     "data": {
      "text/plain": [
       "462"
      ]
     },
     "metadata": {},
     "output_type": "display_data"
    },
    {
     "name": "stdout",
     "output_type": "stream",
     "text": [
      "Symbol: HOTUSDT is having an oversell streak\n"
     ]
    },
    {
     "data": {
      "text/plain": [
       "105"
      ]
     },
     "metadata": {},
     "output_type": "display_data"
    },
    {
     "name": "stdout",
     "output_type": "stream",
     "text": [
      "Symbol: IOSTUSDT is having an oversell streak\n"
     ]
    },
    {
     "data": {
      "text/plain": [
       "66"
      ]
     },
     "metadata": {},
     "output_type": "display_data"
    },
    {
     "name": "stdout",
     "output_type": "stream",
     "text": [
      "Symbol: WINUSDT is having an oversell streak\n"
     ]
    },
    {
     "data": {
      "text/plain": [
       "440"
      ]
     },
     "metadata": {},
     "output_type": "display_data"
    }
   ],
   "source": [
    "# MAIN\n",
    "subList = usdtList[0:50]\n",
    "for symbol in subList:\n",
    "    df = calc_generic_ema(symbol, timeframe, ema_size)\n",
    "\n",
    "    df['time'] = pd.to_datetime(df['time'], unit='ms')\n",
    "\n",
    "    df=df.round(2)\n",
    "\n",
    "    del df['volume']\n",
    "    del df['close_time']\n",
    "    del df['quote_asset_volume']\n",
    "    del df['number_of_trades']\n",
    "    del df['taker_buy_base_asset_volume']\n",
    "    del df['taker_buy_quote_asset_volume']\n",
    "\n",
    "    df['oversell_day'] = 0\n",
    "    df.loc[df['high'] >= df['ema_25'], 'oversell_day'] = 1\n",
    "\n",
    "\n",
    "    df['streak'] = df.groupby((df[\"oversell_day\"] != df[\"oversell_day\"].shift()).cumsum()).cumcount()+1\n",
    "    df.loc[df['oversell_day'] == 0, 'streak'] = 0\n",
    "    \n",
    "    if (df['streak'].iloc[-1] > streak_threshold):\n",
    "        print('Symbol: '+ symbol + ' is having an oversell streak')\n",
    "        display(df['streak'].iloc[-1])"
   ]
  },
  {
   "cell_type": "code",
   "execution_count": null,
   "id": "e97c5437",
   "metadata": {},
   "outputs": [],
   "source": []
  }
 ],
 "metadata": {
  "kernelspec": {
   "display_name": "Python 3 (ipykernel)",
   "language": "python",
   "name": "python3"
  },
  "language_info": {
   "codemirror_mode": {
    "name": "ipython",
    "version": 3
   },
   "file_extension": ".py",
   "mimetype": "text/x-python",
   "name": "python",
   "nbconvert_exporter": "python",
   "pygments_lexer": "ipython3",
   "version": "3.9.13"
  }
 },
 "nbformat": 4,
 "nbformat_minor": 5
}
